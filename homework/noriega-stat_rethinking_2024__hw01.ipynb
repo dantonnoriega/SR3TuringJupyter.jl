{
  "cells": [
    {
      "cell_type": "raw",
      "metadata": {},
      "source": [
        "---\n",
        "title: Statistical Rethinking 2024 – HW 1\n",
        "author: Danton Noriega-Goodwin\n",
        "format: pdf\n",
        "pdf-engine: pdflatex\n",
        "---"
      ],
      "id": "7365c6f3"
    },
    {
      "cell_type": "markdown",
      "metadata": {},
      "source": [
        "## Question 1\n",
        "\n",
        "*Suppose the globe tossing data (Lecture 2, Chapter 2) had turned out to be 3 water and 11 land. Construct the posterior distribution.*\n"
      ],
      "id": "c11992c9"
    },
    {
      "cell_type": "code",
      "metadata": {},
      "source": [
        "# note brackets around \"W\". This implies a vector element.\n",
        "# repeat(\"W\", 3) = \"WWW\" ; a repeat of string \"W\"\n",
        "# repeat([\"W\"], 3) = [\"W\", \"W\", \"W\"] ; a repeat of vector element \"W\"\n",
        "sample = vcat(repeat([\"W\"], 3), repeat([\"L\"], 11))\n",
        "W = sum(sample .== \"W\")\n",
        "L = sum(sample .== \"L\")\n",
        "p = collect(0:0.25:1) # proportions W\n",
        "# when p = [0, 1, 2, 3, 4] / 4 -> p * 4 = [0, 1, 2, 3, 4]\n",
        "ways = map( x -> (x*4)^W * ((1-x)*4)^L, p)\n",
        "prob = ways ./ sum(ways)\n",
        "hcat(p, ways, prob)"
      ],
      "id": "ae123cdb",
      "execution_count": null,
      "outputs": []
    },
    {
      "cell_type": "code",
      "metadata": {},
      "source": [
        "using Plots\n",
        "bar(p, prob, bar_color=:blue, xlabel=\"proportion water\", ylabel=\"probability\", legend=false)"
      ],
      "id": "1b830a5e",
      "execution_count": null,
      "outputs": []
    },
    {
      "cell_type": "markdown",
      "metadata": {},
      "source": [
        "## Question "
      ],
      "id": "fbd10ca8"
    }
  ],
  "metadata": {
    "kernelspec": {
      "name": "julia-1.10",
      "language": "julia",
      "display_name": "Julia 1.10.0"
    }
  },
  "nbformat": 4,
  "nbformat_minor": 5
}